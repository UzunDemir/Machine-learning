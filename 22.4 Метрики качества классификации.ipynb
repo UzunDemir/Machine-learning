{
 "cells": [
  {
   "cell_type": "code",
   "execution_count": 1,
   "id": "aaa76d11",
   "metadata": {},
   "outputs": [],
   "source": [
    "true_label = [1, 1, 1, 0, 0, 1, 0]\n",
    "pred_label = [1, 1, 1, 1, 1, 1, 0]"
   ]
  },
  {
   "cell_type": "code",
   "execution_count": 2,
   "id": "7929ccc0",
   "metadata": {},
   "outputs": [
    {
     "data": {
      "text/plain": [
       "0.7142857142857143"
      ]
     },
     "execution_count": 2,
     "metadata": {},
     "output_type": "execute_result"
    }
   ],
   "source": [
    "5/7"
   ]
  },
  {
   "cell_type": "code",
   "execution_count": 3,
   "id": "28d7cee6",
   "metadata": {},
   "outputs": [],
   "source": [
    "from sklearn.metrics import accuracy_score, confusion_matrix"
   ]
  },
  {
   "cell_type": "code",
   "execution_count": 4,
   "id": "d84be588",
   "metadata": {},
   "outputs": [
    {
     "data": {
      "text/plain": [
       "0.7142857142857143"
      ]
     },
     "execution_count": 4,
     "metadata": {},
     "output_type": "execute_result"
    }
   ],
   "source": [
    "accuracy_score(true_label, pred_label)"
   ]
  },
  {
   "cell_type": "code",
   "execution_count": 5,
   "id": "30480244",
   "metadata": {},
   "outputs": [
    {
     "data": {
      "text/plain": [
       "array([[1, 2],\n",
       "       [0, 4]], dtype=int64)"
      ]
     },
     "execution_count": 5,
     "metadata": {},
     "output_type": "execute_result"
    }
   ],
   "source": [
    "confusion_matrix(true_label, pred_label)"
   ]
  },
  {
   "cell_type": "code",
   "execution_count": 6,
   "id": "7243e272",
   "metadata": {},
   "outputs": [],
   "source": [
    "true_label = [1, 1, 1, 0, 0, 1, 0, 2, 2, 1]\n",
    "pred_label = [1, 1, 1, 1, 1, 1, 0, 1, 2, 0]"
   ]
  },
  {
   "cell_type": "code",
   "execution_count": 7,
   "id": "1b525186",
   "metadata": {},
   "outputs": [
    {
     "data": {
      "text/plain": [
       "0.6"
      ]
     },
     "execution_count": 7,
     "metadata": {},
     "output_type": "execute_result"
    }
   ],
   "source": [
    "accuracy_score(true_label, pred_label)"
   ]
  },
  {
   "cell_type": "code",
   "execution_count": 8,
   "id": "d018301e",
   "metadata": {},
   "outputs": [
    {
     "data": {
      "text/plain": [
       "array([[1, 2, 0],\n",
       "       [1, 4, 0],\n",
       "       [0, 1, 1]], dtype=int64)"
      ]
     },
     "execution_count": 8,
     "metadata": {},
     "output_type": "execute_result"
    }
   ],
   "source": [
    "confusion_matrix(true_label, pred_label)"
   ]
  },
  {
   "cell_type": "code",
   "execution_count": null,
   "id": "00792747",
   "metadata": {},
   "outputs": [],
   "source": []
  }
 ],
 "metadata": {
  "kernelspec": {
   "display_name": "Python 3 (ipykernel)",
   "language": "python",
   "name": "python3"
  },
  "language_info": {
   "codemirror_mode": {
    "name": "ipython",
    "version": 3
   },
   "file_extension": ".py",
   "mimetype": "text/x-python",
   "name": "python",
   "nbconvert_exporter": "python",
   "pygments_lexer": "ipython3",
   "version": "3.9.7"
  }
 },
 "nbformat": 4,
 "nbformat_minor": 5
}
