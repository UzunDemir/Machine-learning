{
 "cells": [
  {
   "cell_type": "code",
   "execution_count": 2,
   "id": "70a399a9",
   "metadata": {},
   "outputs": [],
   "source": [
    "# импортируем нужные библиотеки\n",
    "import matplotlib.pyplot as plt\n",
    "import pandas as pd\n",
    "\n",
    "from sklearn.model_selection import train_test_split\n",
    "from sklearn.metrics import accuracy_score\n",
    "from sklearn.tree import DecisionTreeClassifier"
   ]
  },
  {
   "cell_type": "code",
   "execution_count": 3,
   "id": "75f2a976",
   "metadata": {},
   "outputs": [],
   "source": [
    "# загружаем датасет\n",
    "df = pd.read_csv('22.7 vehicles_dataset_prepared.csv')"
   ]
  },
  {
   "cell_type": "code",
   "execution_count": 4,
   "id": "5e1c59fb",
   "metadata": {},
   "outputs": [],
   "source": [
    "# создаем копию датафрейма для работы\n",
    "df_prepared = df.copy()\n",
    "df_prepared = df_prepared.drop(['price', 'odometer/price_std'], axis=1)"
   ]
  },
  {
   "cell_type": "code",
   "execution_count": 6,
   "id": "04b938d4",
   "metadata": {},
   "outputs": [],
   "source": [
    "# создаем датафрейм с фичами (x) и целевым признаком (y)\n",
    "x = df_prepared.drop(['price_category'], axis=1)\n",
    "y = df_prepared.price_category\n",
    "# создаем тренировочный и тестируемый датасеты\n",
    "x_train, x_test, y_train, y_test = train_test_split(x, y, test_size=0.3, random_state=42)"
   ]
  },
  {
   "cell_type": "code",
   "execution_count": 7,
   "id": "4f952e91",
   "metadata": {},
   "outputs": [
    {
     "data": {
      "text/plain": [
       "DecisionTreeClassifier()"
      ]
     },
     "execution_count": 7,
     "metadata": {},
     "output_type": "execute_result"
    }
   ],
   "source": [
    "# обучаем модель на x_train, y_train\n",
    "clf = DecisionTreeClassifier()\n",
    "clf.fit(x_train, y_train)"
   ]
  },
  {
   "cell_type": "code",
   "execution_count": 8,
   "id": "2a9723ff",
   "metadata": {},
   "outputs": [],
   "source": [
    "# выведем предсказанные моделью в predicted_train и predicted_test\n",
    "predicted_train = clf.predict(x_train)\n",
    "predicted_test = clf.predict(x_test)"
   ]
  },
  {
   "cell_type": "code",
   "execution_count": 13,
   "id": "3a7ed03c",
   "metadata": {},
   "outputs": [
    {
     "name": "stdout",
     "output_type": "stream",
     "text": [
      "1.0\n",
      "0.6708246708246708\n"
     ]
    }
   ],
   "source": [
    "# посчитаем доли правильно предугаданных значений\n",
    "print(accuracy_score(y_train, predicted_train))\n",
    "print(accuracy_score(y_test, predicted_test))"
   ]
  },
  {
   "cell_type": "code",
   "execution_count": 15,
   "id": "6efe4e3f",
   "metadata": {
    "scrolled": true
   },
   "outputs": [
    {
     "data": {
      "text/plain": [
       "{'ccp_alpha': 0.0,\n",
       " 'class_weight': None,\n",
       " 'criterion': 'gini',\n",
       " 'max_depth': None,\n",
       " 'max_features': None,\n",
       " 'max_leaf_nodes': None,\n",
       " 'min_impurity_decrease': 0.0,\n",
       " 'min_impurity_split': None,\n",
       " 'min_samples_leaf': 1,\n",
       " 'min_samples_split': 2,\n",
       " 'min_weight_fraction_leaf': 0.0,\n",
       " 'random_state': None,\n",
       " 'splitter': 'best'}"
      ]
     },
     "execution_count": 15,
     "metadata": {},
     "output_type": "execute_result"
    }
   ],
   "source": [
    "# выведем параметры,с которыми обучилась модель\n",
    "clf.get_params()"
   ]
  },
  {
   "cell_type": "code",
   "execution_count": 19,
   "id": "26844125",
   "metadata": {},
   "outputs": [
    {
     "data": {
      "text/plain": [
       "DecisionTreeClassifier(max_depth=15, min_samples_split=15, random_state=42)"
      ]
     },
     "execution_count": 19,
     "metadata": {},
     "output_type": "execute_result"
    }
   ],
   "source": [
    "# поменяем параметры для улучшения качества обучаемой модели для повышения значений метрики\n",
    "clf2 = DecisionTreeClassifier(random_state=42,max_depth=15, min_samples_split=15)\n",
    "clf2.fit(x_train, y_train)"
   ]
  },
  {
   "cell_type": "markdown",
   "id": "d7b89738",
   "metadata": {},
   "source": [
    "Все время выборка была одна и та же. Что будет, если выборки будут меняться, поменяется ли предсказательная способность? Нужно создать универсальную модель. Нужно попробовать различные разбиения на x_train, x_test чтобы попробовать результаты метрики на разных датасетах."
   ]
  },
  {
   "cell_type": "code",
   "execution_count": 20,
   "id": "3ae0467a",
   "metadata": {},
   "outputs": [],
   "source": [
    "predicted_train2 = clf2.predict(x_train)\n",
    "predicted_test2 = clf2.predict(x_test)"
   ]
  },
  {
   "cell_type": "code",
   "execution_count": 21,
   "id": "c7aaf942",
   "metadata": {},
   "outputs": [
    {
     "name": "stdout",
     "output_type": "stream",
     "text": [
      "0.8529630179711867\n",
      "0.6756756756756757\n"
     ]
    }
   ],
   "source": [
    "print(accuracy_score(y_train, predicted_train2))\n",
    "print(accuracy_score(y_test, predicted_test2))"
   ]
  },
  {
   "cell_type": "code",
   "execution_count": 22,
   "id": "e0659e7f",
   "metadata": {},
   "outputs": [],
   "source": [
    "# обучение двух разных моделей на 50 разных разбиениях train и test\n",
    "acc_list, acc_list2 = [], [] # создаем списки\n",
    "\n",
    "for i in range(50):   # создали цикл из 50 обучений \n",
    "    x_train, x_test, y_train, y_test = train_test_split(x, y, test_size=0.3, shuffle=True) \n",
    "    # убрали random_state=42 \n",
    "    # и добавили shuffle=True (чтобы перемешать данные перед разделение на train и test)\n",
    "    clf.fit(x_train, y_train) # обучение классификатора clf\n",
    "    clf2.fit(x_train, y_train) # обучение классификатора clf2\n",
    "\n",
    "    predicted_test = clf.predict(x_test) # положим соответствующие предикты\n",
    "    predicted_test2 = clf2.predict(x_test) # положим соответствующие предикты\n",
    "\n",
    "    acc_list.append(accuracy_score(y_test, predicted_test))\n",
    "    acc_list2.append(accuracy_score(y_test, predicted_test2))"
   ]
  },
  {
   "cell_type": "code",
   "execution_count": 13,
   "id": "bc433b01",
   "metadata": {},
   "outputs": [],
   "source": [
    "import numpy as np"
   ]
  },
  {
   "cell_type": "code",
   "execution_count": 14,
   "id": "c2641995",
   "metadata": {},
   "outputs": [
    {
     "data": {
      "text/plain": [
       "(0.6829383229383229, 0.008931905246820682)"
      ]
     },
     "execution_count": 14,
     "metadata": {},
     "output_type": "execute_result"
    }
   ],
   "source": [
    "# посчитаем среднее и стандартное оклонения на списках acc_list\n",
    "np.mean(acc_list), np.std(acc_list)"
   ]
  },
  {
   "cell_type": "code",
   "execution_count": 15,
   "id": "bbec8cf9",
   "metadata": {
    "scrolled": true
   },
   "outputs": [
    {
     "data": {
      "text/plain": [
       "(0.684109494109494, 0.009535651763047884)"
      ]
     },
     "execution_count": 15,
     "metadata": {},
     "output_type": "execute_result"
    }
   ],
   "source": [
    "# посчитаем среднее и стандартное оклонения на списках acc_list2\n",
    "np.mean(acc_list2), np.std(acc_list2)"
   ]
  },
  {
   "cell_type": "markdown",
   "id": "476166ef",
   "metadata": {},
   "source": [
    "![caption](random_forest.png)"
   ]
  },
  {
   "cell_type": "markdown",
   "id": "d7fd3796",
   "metadata": {},
   "source": [
    "Ансамблевый метод обучения модели\n",
    "Каждое дерево выдает свой класс. Какой класс выбрало большинство деревьев, это и будет финальным предсказанием."
   ]
  },
  {
   "cell_type": "code",
   "execution_count": 23,
   "id": "365e1598",
   "metadata": {},
   "outputs": [],
   "source": [
    "# импортируем классификатор случайного леса\n",
    "from sklearn.ensemble import RandomForestClassifier"
   ]
  },
  {
   "cell_type": "code",
   "execution_count": 17,
   "id": "44f68ccc",
   "metadata": {},
   "outputs": [],
   "source": [
    "# создаем тренировочный и тестируемый датасеты\n",
    "x_train, x_test, y_train, y_test = train_test_split(x, y, test_size=0.3, random_state=42)"
   ]
  },
  {
   "cell_type": "code",
   "execution_count": 24,
   "id": "0f3b30d7",
   "metadata": {},
   "outputs": [
    {
     "data": {
      "text/plain": [
       "RandomForestClassifier()"
      ]
     },
     "execution_count": 24,
     "metadata": {},
     "output_type": "execute_result"
    }
   ],
   "source": [
    "# создаем отдельную переменную rf_clf для классификатора случайного леса\n",
    "rf_clf = RandomForestClassifier()\n",
    "# обучим эту переменную\n",
    "rf_clf.fit(x_train, y_train)"
   ]
  },
  {
   "cell_type": "code",
   "execution_count": 25,
   "id": "9f4ea782",
   "metadata": {},
   "outputs": [],
   "source": [
    "# выведем предсказанные моделью в predicted_train_rf и predicted_test_rf\n",
    "predicted_train_rf = rf_clf.predict(x_train)\n",
    "predicted_test_rf = rf_clf.predict(x_test)"
   ]
  },
  {
   "cell_type": "code",
   "execution_count": 27,
   "id": "628eea47",
   "metadata": {},
   "outputs": [
    {
     "name": "stdout",
     "output_type": "stream",
     "text": [
      "1.0\n",
      "0.7550242550242551\n"
     ]
    }
   ],
   "source": [
    "# посчитаем доли правильно предугаданных значений\n",
    "print(accuracy_score(y_train, predicted_train_rf))\n",
    "print(accuracy_score(y_test, predicted_test_rf))"
   ]
  },
  {
   "cell_type": "code",
   "execution_count": 28,
   "id": "f7c4d119",
   "metadata": {},
   "outputs": [
    {
     "data": {
      "text/plain": [
       "{'bootstrap': True,\n",
       " 'ccp_alpha': 0.0,\n",
       " 'class_weight': None,\n",
       " 'criterion': 'gini',\n",
       " 'max_depth': None,\n",
       " 'max_features': 'auto',\n",
       " 'max_leaf_nodes': None,\n",
       " 'max_samples': None,\n",
       " 'min_impurity_decrease': 0.0,\n",
       " 'min_impurity_split': None,\n",
       " 'min_samples_leaf': 1,\n",
       " 'min_samples_split': 2,\n",
       " 'min_weight_fraction_leaf': 0.0,\n",
       " 'n_estimators': 100,\n",
       " 'n_jobs': None,\n",
       " 'oob_score': False,\n",
       " 'random_state': None,\n",
       " 'verbose': 0,\n",
       " 'warm_start': False}"
      ]
     },
     "execution_count": 28,
     "metadata": {},
     "output_type": "execute_result"
    }
   ],
   "source": [
    "rf_clf.get_params()"
   ]
  },
  {
   "cell_type": "code",
   "execution_count": 65,
   "id": "4ffae0ca",
   "metadata": {},
   "outputs": [
    {
     "data": {
      "text/plain": [
       "RandomForestClassifier(n_estimators=200)"
      ]
     },
     "execution_count": 65,
     "metadata": {},
     "output_type": "execute_result"
    }
   ],
   "source": [
    "# создаем отдельную переменную rf_clf для классификатора случайного леса\n",
    "rf_clf = RandomForestClassifier(n_estimators=200)\n",
    "# обучим эту переменную\n",
    "rf_clf.fit(x_train, y_train)"
   ]
  },
  {
   "cell_type": "code",
   "execution_count": 66,
   "id": "d1d711db",
   "metadata": {},
   "outputs": [],
   "source": [
    "predicted_train_rf = rf_clf.predict(x_train)\n",
    "predicted_test_rf = rf_clf.predict(x_test)"
   ]
  },
  {
   "cell_type": "code",
   "execution_count": 67,
   "id": "5f315b15",
   "metadata": {},
   "outputs": [
    {
     "name": "stdout",
     "output_type": "stream",
     "text": [
      "1.0\n",
      "0.7636867636867637\n"
     ]
    }
   ],
   "source": [
    "# посчитаем доли правильно предугаданных значений\n",
    "print(accuracy_score(y_train, predicted_train_rf))\n",
    "print(accuracy_score(y_test, predicted_test_rf))"
   ]
  },
  {
   "cell_type": "code",
   "execution_count": null,
   "id": "8a30b0f3",
   "metadata": {},
   "outputs": [],
   "source": []
  }
 ],
 "metadata": {
  "kernelspec": {
   "display_name": "Python 3 (ipykernel)",
   "language": "python",
   "name": "python3"
  },
  "language_info": {
   "codemirror_mode": {
    "name": "ipython",
    "version": 3
   },
   "file_extension": ".py",
   "mimetype": "text/x-python",
   "name": "python",
   "nbconvert_exporter": "python",
   "pygments_lexer": "ipython3",
   "version": "3.9.7"
  }
 },
 "nbformat": 4,
 "nbformat_minor": 5
}
